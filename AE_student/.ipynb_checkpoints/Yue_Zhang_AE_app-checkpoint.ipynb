{
 "cells": [
  {
   "cell_type": "code",
   "execution_count": null,
   "metadata": {},
   "outputs": [],
   "source": [
    "#IMPORTS\n",
    "import numpy as np\n",
    "import os,sys,math\n",
    "import matplotlib.pyplot as plt\n",
    "sys.path.append(os.getcwd()+\"/Code\") # so that we can import the modules below\n",
    "#feel free to have a look into Network, Layer or RBM implementations to see how they work\n",
    "from NN import Network,Layer,pretrain_autoencoder, plot_results\n",
    "from RBM import RBM\n",
    "#DATASETS DIRECTORIES\n",
    "MNIST_TRAIN_DIR=\"./Data/MNIST1_train.npz\"\n",
    "MNIST_TEST_1_DIR=\"./Data/MNIST1_test_1.npz\"\n",
    "MNIST_TEST_2_DIR=\"./Data/MNIST1_test_2.npz\"\n",
    "PATCHES_DIR=\"./Data/PATCHES.npy\""
   ]
  },
  {
   "cell_type": "code",
   "execution_count": null,
   "metadata": {},
   "outputs": [],
   "source": [
    "#An example how to create,train and use Network structure:\n",
    "x_mock_data = np.array([[0,0],[0,1],[1,0],[1,1]])\n",
    "y_mock_data = np.array([0,1,1,0])[:,None]\n",
    "\n",
    "NN = Network([2,4,1],activations=[\"sigmoid\"]) #define a network architecture & activation\n",
    "NN.set_lr(1.0,momentum=0.0)  #set learning rate and momentum\n",
    "NN.fit(x_mock_data,y_mock_data,batch_size=4, #fit to data\n",
    "       epochs=2000,x_val=x_mock_data,y_true_val=y_mock_data) \n",
    "print(\"\\n Targets:\")\n",
    "print((y_mock_data))\n",
    "print(\"\\n Predictions:\")\n",
    "print(NN.predict(x_mock_data)) # get predictions\n",
    "print(\"\\n Error:\")\n",
    "print(NN.evaluate(x_mock_data,y_mock_data)) # get error"
   ]
  },
  {
   "cell_type": "markdown",
   "metadata": {},
   "source": [
    "### Load Mnist Dataset"
   ]
  },
  {
   "cell_type": "code",
   "execution_count": null,
   "metadata": {},
   "outputs": [],
   "source": [
    "#load the MNIST dataset\n",
    "#train dataset for A1,A2,A3,A8,A9\n",
    "X =  np.load(MNIST_TRAIN_DIR,allow_pickle=True)[\"arr_0\"]\n",
    "y =  np.load(MNIST_TRAIN_DIR,allow_pickle=True)[\"arr_1\"]\n",
    "#test dataset for A1,A2,A3\n",
    "x_test =  np.load(MNIST_TEST_1_DIR,allow_pickle=True)[\"arr_0\"]\n",
    "y_test = np.load(MNIST_TEST_1_DIR,allow_pickle=True)[\"arr_1\"]\n",
    "#test dataset for A8,A9\n",
    "x_test_2 =  np.load(MNIST_TEST_2_DIR,allow_pickle=True)[\"arr_0\"]\n",
    "y_test_2 = np.load(MNIST_TEST_2_DIR,allow_pickle=True)[\"arr_1\"]\n",
    "#validation split\n",
    "#create some validation data\n",
    "???"
   ]
  },
  {
   "cell_type": "markdown",
   "metadata": {},
   "source": [
    "## Part 1. Data Compression"
   ]
  },
  {
   "cell_type": "markdown",
   "metadata": {},
   "source": [
    "### <span style=\"color:red\">=========== Assignment 1 ===========</span>"
   ]
  },
  {
   "cell_type": "code",
   "execution_count": null,
   "metadata": {},
   "outputs": [],
   "source": [
    "#Create a NN, tie its weights using the function:\n",
    "#Network.tie_weights(layer_index_1,layer_index_2)\n",
    "#Remember to do this before calling fit()!\n",
    "#To visualize the results, use:\n",
    "#plot_results(Network,data,hidden_units)\n",
    "#Remember to record your results for A4!\n",
    "hidden_arch = [40,80,160,320]"
   ]
  },
  {
   "cell_type": "markdown",
   "metadata": {},
   "source": [
    "### <span style=\"color:red\">=========== End of Assignment 1 ===========</span>"
   ]
  },
  {
   "cell_type": "markdown",
   "metadata": {},
   "source": [
    "### <span style=\"color:red\">=========== Assignment 2 ===========</span>"
   ]
  },
  {
   "cell_type": "code",
   "execution_count": null,
   "metadata": {},
   "outputs": [],
   "source": [
    "#Train a DAE\n",
    "#add gaussian noise to data "
   ]
  },
  {
   "cell_type": "markdown",
   "metadata": {},
   "source": [
    "### <span style=\"color:red\">=========== End of Assignment 2 ===========</span>"
   ]
  },
  {
   "cell_type": "markdown",
   "metadata": {},
   "source": [
    "### <span style=\"color:red\">=========== Assignment 3 ===========</span>"
   ]
  },
  {
   "cell_type": "code",
   "execution_count": null,
   "metadata": {},
   "outputs": [],
   "source": [
    "#Here use the RBM class to obtain your results.\n",
    "#The RBM has to have gaussian visible and binomial hidden units"
   ]
  },
  {
   "cell_type": "markdown",
   "metadata": {},
   "source": [
    "### <span style=\"color:red\">=========== End of Assignment 3 ===========</span>"
   ]
  },
  {
   "cell_type": "markdown",
   "metadata": {},
   "source": [
    "### <span style=\"color:red\">=========== Assignment 4 ===========</span>"
   ]
  },
  {
   "cell_type": "code",
   "execution_count": null,
   "metadata": {},
   "outputs": [],
   "source": [
    "#Create a plot comparing compression power of different AE"
   ]
  },
  {
   "cell_type": "markdown",
   "metadata": {},
   "source": [
    "### <span style=\"color:red\">=========== End of Assignment 4 ===========</span>"
   ]
  },
  {
   "cell_type": "markdown",
   "metadata": {},
   "source": [
    "### <span style=\"color:red\">=========== Assignment 5 ===========</span>"
   ]
  },
  {
   "cell_type": "markdown",
   "metadata": {},
   "source": [
    "[Answer]"
   ]
  },
  {
   "cell_type": "markdown",
   "metadata": {},
   "source": [
    "### <span style=\"color:red\">=========== End of Assignment 5 ===========</span>"
   ]
  },
  {
   "cell_type": "markdown",
   "metadata": {},
   "source": [
    "## Part 2. Spatial Filer Learning"
   ]
  },
  {
   "cell_type": "markdown",
   "metadata": {},
   "source": [
    "### <span style=\"color:red\">=========== Assignment 6 ===========</span>"
   ]
  },
  {
   "cell_type": "code",
   "execution_count": null,
   "metadata": {},
   "outputs": [],
   "source": [
    "#Complete the for loop from the display_filters function that visualizes the NN weights.\n",
    "#To access any Network weights, use the following syntax: \n",
    "#Network.layers[layer_index].w\n",
    "def display_mean_activation(nn,x,n_units=50):\n",
    "    \"\"\"\n",
    "    Plots a scatter plot of mean activation of the first n_units neurons of the first hidden layer.\n",
    "    nn - a Network class object\n",
    "    x - data on which to measure the mean activation\n",
    "    n_units - how many activations are meant to be displayed\n",
    "    \"\"\"\n",
    "    plt.figure(figsize=(5,5))\n",
    "    activations = np.squeeze(nn.get_layer_output(x,2))\n",
    "    mean_activations = np.mean(activations[:,:n_units],axis=0)\n",
    "    plt.scatter(np.arange(n_units),mean_activations)\n",
    "    plt.xlim(int(-n_units/10),int(n_units+n_units/6))\n",
    "    plt.xlabel(\"Hidden units\")\n",
    "    plt.ylabel(\"Mean activation\")\n",
    "    plt.show()\n",
    "def display_filters(nn):\n",
    "    \"\"\"\n",
    "    Complete a function that visualizes the weights inside\n",
    "    the second hidden layer of the nn in a 10x10 grid.\n",
    "    Use the plt.subplot() to create 100 subplots.\n",
    "    nn - a Network class object\n",
    "    \"\"\"\n",
    "    plt.figure(figsize=(7,7))\n",
    "    for i in range(100):\n",
    "        #COMPLETE BELOW, IT CAN TAKE MORE OR LESS LINES THAN 3\n",
    "        plt.subplot(????)       \n",
    "        ???\n",
    "        ???\n",
    "        ???\n",
    "        plt.imshow(????,cmap=\"bwr\")\n",
    "        plt.axis('off')        \n",
    "    plt.show()"
   ]
  },
  {
   "cell_type": "code",
   "execution_count": null,
   "metadata": {},
   "outputs": [],
   "source": [
    "#Load and preprocess the dataset\n",
    "X_patches = np.load(PATCHES_DIR,allow_pickle=True)\n",
    "#Here, you have to preprocess the dataset"
   ]
  },
  {
   "cell_type": "code",
   "execution_count": null,
   "metadata": {
    "scrolled": false
   },
   "outputs": [],
   "source": [
    "#Do some hyperparameter search for lambda and rho here.\n",
    "# To enable sparsity, use:\n",
    "# Network.layers[activation_layer_id].enable sparsity(lambda,rho)\n",
    "#Use Network.get_summary() to print network layers' summary\n",
    "#Use display_mean_activation and display_filters to visualize your results\n",
    "\n",
    "display_mean_activation(???,???,???)\n",
    "display_filters(???)"
   ]
  },
  {
   "cell_type": "markdown",
   "metadata": {},
   "source": [
    "### <span style=\"color:red\">=========== End of Assignment 6 ===========</span>"
   ]
  },
  {
   "cell_type": "markdown",
   "metadata": {},
   "source": [
    "### <span style=\"color:red\">=========== Assignment 7 ===========</span>"
   ]
  },
  {
   "cell_type": "code",
   "execution_count": null,
   "metadata": {},
   "outputs": [],
   "source": [
    "#Produce some results for network without sparsity constraint.\n",
    "display_filters(???)"
   ]
  },
  {
   "cell_type": "markdown",
   "metadata": {},
   "source": [
    "### <span style=\"color:red\">=========== End of Assignment 7 ===========</span>"
   ]
  },
  {
   "cell_type": "markdown",
   "metadata": {},
   "source": [
    "## Part 3. Visualization"
   ]
  },
  {
   "cell_type": "markdown",
   "metadata": {},
   "source": [
    "### <span style=\"color:red\">=========== Assignment 8 ===========</span>"
   ]
  },
  {
   "cell_type": "code",
   "execution_count": null,
   "metadata": {},
   "outputs": [],
   "source": [
    "# Define the network architecture and use the pretrain_autoencoder function to pretrain it."
   ]
  },
  {
   "cell_type": "code",
   "execution_count": null,
   "metadata": {},
   "outputs": [],
   "source": [
    "# Fine-tune the pre-trained autoencoder. You can also use the plot_results function from A1\n",
    "# to visualize the reconstructions before and after fine-tuning"
   ]
  },
  {
   "cell_type": "code",
   "execution_count": null,
   "metadata": {},
   "outputs": [],
   "source": [
    "#Plot the 2D digit representations on a scatter plot from the x_test_2 dataset.\n",
    "#Remember to use different colours for different digits!\n",
    "plt.figure(figsize=(7,7))\n",
    "???\n",
    "plt.show()"
   ]
  },
  {
   "cell_type": "markdown",
   "metadata": {},
   "source": [
    "### <span style=\"color:red\">=========== End of Assignment 8 ===========</span>"
   ]
  },
  {
   "cell_type": "markdown",
   "metadata": {},
   "source": [
    "### <span style=\"color:red\">=========== Assignment 9 ===========</span>"
   ]
  },
  {
   "cell_type": "code",
   "execution_count": null,
   "metadata": {},
   "outputs": [],
   "source": [
    "#Create and train another network, this time without pretraining.\n",
    "#You can use the plot_results function to see the results."
   ]
  },
  {
   "cell_type": "code",
   "execution_count": null,
   "metadata": {},
   "outputs": [],
   "source": [
    "#Plot 2D representations for the new network.\n",
    "plt.figure(figsize=(7,7))\n",
    "???\n",
    "plt.show()"
   ]
  },
  {
   "cell_type": "code",
   "execution_count": null,
   "metadata": {},
   "outputs": [],
   "source": [
    "#Create a plot of training metrics.\n",
    "plt.xlabel(\"Epoch\")\n",
    "plt.ylabel(\"MSE\")\n",
    "plt.show()"
   ]
  },
  {
   "cell_type": "markdown",
   "metadata": {},
   "source": [
    "### <span style=\"color:red\">=========== End of Assignment 9 ===========</span>"
   ]
  }
 ],
 "metadata": {
  "kernelspec": {
   "display_name": "Python 3",
   "language": "python",
   "name": "python3"
  },
  "language_info": {
   "codemirror_mode": {
    "name": "ipython",
    "version": 3
   },
   "file_extension": ".py",
   "mimetype": "text/x-python",
   "name": "python",
   "nbconvert_exporter": "python",
   "pygments_lexer": "ipython3",
   "version": "3.8.3"
  }
 },
 "nbformat": 4,
 "nbformat_minor": 4
}
