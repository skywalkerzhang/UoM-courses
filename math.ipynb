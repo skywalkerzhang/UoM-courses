{
 "cells": [
  {
   "cell_type": "markdown",
   "metadata": {},
   "source": [
    "# Mathematics Essential"
   ]
  },
  {
   "cell_type": "markdown",
   "metadata": {},
   "source": [
    "## Practicals"
   ]
  },
  {
   "cell_type": "code",
   "execution_count": 1,
   "metadata": {},
   "outputs": [],
   "source": [
    "import numpy as np\n",
    "from matplotlib import pyplot as plt\n",
    "from scipy import special\n",
    "\n",
    "%matplotlib inline"
   ]
  },
  {
   "cell_type": "code",
   "execution_count": 2,
   "metadata": {},
   "outputs": [
    {
     "name": "stdout",
     "output_type": "stream",
     "text": [
      "A:\n",
      " [[2.32097658e-01 8.69667156e-01 4.84704212e-01 5.25999376e-01\n",
      "  4.91347784e-01]\n",
      " [2.68178184e-01 4.94268659e-01 1.06246931e-01 3.53954676e-01\n",
      "  2.60253588e-01]\n",
      " [4.63476477e-01 7.08619753e-01 5.11177454e-01 5.06374713e-04\n",
      "  3.28189071e-01]]\n",
      "B:\n",
      " [[0.91514208 0.92206441 0.50696091]\n",
      " [0.54801509 0.04371969 0.07101968]\n",
      " [0.05481562 0.12848639 0.14812604]\n",
      " [0.46152671 0.1618032  0.98097817]\n",
      " [0.23866374 0.99569726 0.92332776]]\n"
     ]
    }
   ],
   "source": [
    "A = np.random.rand(3, 5)\n",
    "print(f'A:\\n {A}')\n",
    "B = np.random.rand(5, 3)\n",
    "print(f'B:\\n {B}')"
   ]
  },
  {
   "cell_type": "markdown",
   "metadata": {},
   "source": [
    "### <span style=\"color:red\">=========== Assignment 1 ===========</span>"
   ]
  },
  {
   "cell_type": "code",
   "execution_count": 3,
   "metadata": {},
   "outputs": [
    {
     "name": "stdout",
     "output_type": "stream",
     "text": [
      "[[0.05181368 0.02135129 0.02134169]\n",
      " [0.02135129 0.0201814  0.00443371]\n",
      " [0.02134169 0.00443371 0.06908979]]\n",
      "[[ 0.05649512  0.02997956 -0.00762168 -0.09235792 -0.04069762]\n",
      " [ 0.02997956  0.08043063 -0.01352072 -0.01237722 -0.11838764]\n",
      " [-0.00762168 -0.01352072  0.00241999  0.00707961  0.01970604]\n",
      " [-0.09235792 -0.01237722  0.00707961  0.17178527  0.01157761]\n",
      " [-0.04069762 -0.11838764  0.01970604  0.01157761  0.17451699]]\n"
     ]
    }
   ],
   "source": [
    "print(np.cov(A))\n",
    "print(np.cov(B))"
   ]
  },
  {
   "cell_type": "markdown",
   "metadata": {},
   "source": [
    "### <span style=\"color:red\">=========== End of Assignment 1 ===========</span>"
   ]
  },
  {
   "cell_type": "markdown",
   "metadata": {},
   "source": [
    "### <span style=\"color:red\">=========== Assignment 2 ===========</span> "
   ]
  },
  {
   "cell_type": "code",
   "execution_count": 4,
   "metadata": {
    "scrolled": false
   },
   "outputs": [
    {
     "name": "stdout",
     "output_type": "stream",
     "text": [
      "[0.0873713  0.04489887 0.00881469]\n",
      "[[-0.60187996 -0.63480495  0.48452368]\n",
      " [-0.24149236 -0.43363999 -0.86812315]\n",
      " [-0.76119771  0.63951469 -0.10769867]]\n"
     ]
    }
   ],
   "source": [
    "wA, vA = np.linalg.eig(np.cov(A))\n",
    "print(wA)\n",
    "print(vA)"
   ]
  },
  {
   "cell_type": "code",
   "execution_count": 27,
   "metadata": {},
   "outputs": [
    {
     "name": "stdout",
     "output_type": "stream",
     "text": [
      "[0.00000000e+00 1.99003025e-01 2.86644970e-01 1.45857798e-17\n",
      " 7.55788750e-19]\n",
      "[[ 0.87767663 -0.32649542 -0.35083396 -0.35523744  0.85975886]\n",
      " [-0.0876903   0.27672108 -0.47689766  0.79244098 -0.17778532]\n",
      " [ 0.02778817 -0.02204063  0.09002889 -0.01540209 -0.1463089 ]\n",
      " [ 0.45687615  0.7892349   0.40847798 -0.16475853  0.45097583]\n",
      " [ 0.11174137 -0.439828    0.68885753  0.46739818  0.06649494]]\n"
     ]
    }
   ],
   "source": [
    "wB, vB = np.linalg.eig(np.cov(B))\n",
    "print(wB)\n",
    "print(vB)"
   ]
  },
  {
   "cell_type": "markdown",
   "metadata": {},
   "source": [
    "### <span style=\"color:red\">=========== End of Assignment 2 ===========</span>"
   ]
  },
  {
   "cell_type": "markdown",
   "metadata": {},
   "source": [
    "### <span style=\"color:red\">=========== Assignment 3 ===========</span>"
   ]
  },
  {
   "cell_type": "code",
   "execution_count": null,
   "metadata": {
    "scrolled": true
   },
   "outputs": [],
   "source": [
    "X = vB * wB\n",
    "X = np.dot(X, np.matrix(vB).I)\n",
    "X"
   ]
  },
  {
   "cell_type": "markdown",
   "metadata": {},
   "source": [
    "Matrix x is the same as matrix cov(B) "
   ]
  },
  {
   "cell_type": "markdown",
   "metadata": {},
   "source": [
    "### <span style=\"color:red\">=========== End of Assignment 3 ===========</span>"
   ]
  },
  {
   "cell_type": "markdown",
   "metadata": {},
   "source": [
    "### <span style=\"color:red\">=========== Assignment 4 ===========</span>"
   ]
  },
  {
   "cell_type": "code",
   "execution_count": null,
   "metadata": {
    "scrolled": false
   },
   "outputs": [],
   "source": [
    "A_svd = np.linalg.svd(A)\n",
    "B_svd = np.linalg.svd(B)\n",
    "A_svd"
   ]
  },
  {
   "cell_type": "code",
   "execution_count": null,
   "metadata": {},
   "outputs": [],
   "source": [
    "B_svd"
   ]
  },
  {
   "cell_type": "markdown",
   "metadata": {},
   "source": [
    "### <span style=\"color:red\">=========== End of Assignment 4 ===========</span>"
   ]
  },
  {
   "cell_type": "markdown",
   "metadata": {},
   "source": [
    "### <span style=\"color:red\">=========== Assignment 5 ===========</span>"
   ]
  },
  {
   "cell_type": "code",
   "execution_count": null,
   "metadata": {},
   "outputs": [],
   "source": [
    "ratio = []\n",
    "for d in range(1, 21):\n",
    "    ratio.append((np.pi ** (d/2)) / (d*2 ** (d-1) * special.gamma(d/2)))\n",
    "\n",
    "plt.plot(range(1,21), ratio)\n",
    "plt.xlabel('dimensions')\n",
    "plt.ylabel('ratio')"
   ]
  },
  {
   "cell_type": "markdown",
   "metadata": {},
   "source": [
    "### <span style=\"color:red\">=========== End of Assignment 5 ===========</span>"
   ]
  },
  {
   "cell_type": "markdown",
   "metadata": {},
   "source": [
    "## Mathematics"
   ]
  },
  {
   "cell_type": "markdown",
   "metadata": {},
   "source": [
    "### <span style=\"color:red\">=========== Assignment 6 ===========</span>\n",
    "\n"
   ]
  },
  {
   "cell_type": "markdown",
   "metadata": {},
   "source": [
    "[Answer]"
   ]
  },
  {
   "cell_type": "markdown",
   "metadata": {},
   "source": [
    "### <span style=\"color:red\">=========== End of Assignment 6 ===========</span>\n"
   ]
  },
  {
   "cell_type": "markdown",
   "metadata": {},
   "source": [
    "### <span style=\"color:red\">=========== Assignment 7 ===========</span>"
   ]
  },
  {
   "cell_type": "markdown",
   "metadata": {},
   "source": [
    "[Answer]"
   ]
  },
  {
   "cell_type": "markdown",
   "metadata": {},
   "source": [
    "### <span style=\"color:red\">=========== End of Assignment 7 ===========</span>"
   ]
  },
  {
   "cell_type": "markdown",
   "metadata": {},
   "source": [
    "### <span style=\"color:red\">=========== Assignment 8 ===========</span>"
   ]
  },
  {
   "cell_type": "markdown",
   "metadata": {},
   "source": [
    "[Answer]"
   ]
  },
  {
   "cell_type": "markdown",
   "metadata": {},
   "source": [
    "### <span style=\"color:red\">=========== End of Assignment 8 ===========</span>"
   ]
  },
  {
   "cell_type": "markdown",
   "metadata": {},
   "source": [
    "### <span style=\"color:red\">=========== Assignment 9 ===========</span>"
   ]
  },
  {
   "cell_type": "markdown",
   "metadata": {},
   "source": [
    "[Answer]"
   ]
  },
  {
   "cell_type": "markdown",
   "metadata": {},
   "source": [
    "### <span style=\"color:red\">=========== End of Assignment 9 ===========</span>"
   ]
  }
 ],
 "metadata": {
  "kernelspec": {
   "display_name": "Python 3",
   "language": "python",
   "name": "python3"
  },
  "language_info": {
   "codemirror_mode": {
    "name": "ipython",
    "version": 3
   },
   "file_extension": ".py",
   "mimetype": "text/x-python",
   "name": "python",
   "nbconvert_exporter": "python",
   "pygments_lexer": "ipython3",
   "version": "3.8.3"
  }
 },
 "nbformat": 4,
 "nbformat_minor": 2
}
