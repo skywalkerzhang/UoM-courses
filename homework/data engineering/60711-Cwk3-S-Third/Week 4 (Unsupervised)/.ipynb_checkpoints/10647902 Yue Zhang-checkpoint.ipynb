{
 "cells": [
  {
   "cell_type": "markdown",
   "metadata": {
    "editable": false
   },
   "source": [
    "# COMP60711 - Part 2 Coursework 1\n",
    "\n",
    "|                           |                                                                                                                                                                               |\n",
    "|--------------------------:|:------------------------------------------------------------------------------------------------------------------------------------------------------------------------------|\n",
    "|              Course Unit: | COMP60711: Data Engineering                                                                                                                                                   |\n",
    "| Responsible Staff Member: | Professor John Keane                                                                                                                                                          |\n",
    "|                    Marks: | This course is worth **25%** of the overall marks for this unit.                                                                                                                |\n",
    "|              Submissions: | This is the **3rd** of **4** assessed submissions.                                                                                                                                    |\n",
    "|     Method of Submitting: | This notebook, after completion, should be saved as a HTML document and submitted using Blackboard                                                                                      |\n",
    "|                 Deadline: | Thursday 26th November 9AM (UK time)                                                                                                                                                                            |\n",
    "|         Late Submissions: | Extensions will only be granted as a result of formally processed [Mitigating Circumstances](http://documents.manchester.ac.uk/DocuInfo.aspx?DocID=427). Marks for late submissions will be reduced in line with the [University policy](http://documents.manchester.ac.uk/display.aspx?DocID=24561). |\n",
    "\n",
    "Please complete the questions in the spaces provided (under the \"Answer\" block for each question), then download the notebook in HTML format and submit to Blackboard.\n",
    "\n",
    "Please also add your student ID and name below."
   ]
  },
  {
   "cell_type": "markdown",
   "metadata": {},
   "source": [
    "| Student ID (7-8 digit number) | Full Name |\n",
    "|:-------------------------------:|:-----------:|\n",
    "|       12345678                 |  Name Here         |"
   ]
  },
  {
   "cell_type": "markdown",
   "metadata": {},
   "source": [
    "## Reminders\n",
    "* Jupyter notebooks use markdown. A brief summary of how to use markdown can be seen [here](https://github.com/adam-p/markdown-here/wiki/Markdown-Cheatsheet). Otherwise, please refer to the brief guide on Blackboard.\n",
    "* You **must** cite any sources used, from web pages to academic papers and textbooks.\n",
    "* Please ensure your code has no errors, and that the output is shown in your submitted version.\n",
    "* We have added some general notebooks on Blackboard to cover the basics of plotting in Python, Jupyter notebooks, and anaconda.\n",
    "* Some questions require a mixture of code and text to answer the question. Marks are awarded based on the output of your code (i.e. graphs) and the explanation provided, not on the code itself."
   ]
  },
  {
   "cell_type": "markdown",
   "metadata": {
    "editable": false
   },
   "source": [
    "# Question 1: Clustering (16 marks)\n",
    "\n",
    "The following sub-questions are about [clustering](https://www-users.cs.umn.edu/~kumar001/dmbook/ch8.pdf). In general, the topics covered are as follows:\n",
    "* Question 1.1 focuses on clustering algorithmic behaviour, and their sensitivity to data.\n",
    "* Question 1.2 focuses on method for estimating the number of clusters.\n",
    "* Question 1.3 uses a large real-world dataset to look at how clustering can be used for knowledge discovery.\n",
    "\n",
    "The following reading is likely to be of use for the following questions:\n",
    "1. Book chapter on clustering: https://www-users.cs.umn.edu/~kumar001/dmbook/ch8.pdf\n",
    "    * Note that certain sections may be useful, you are not expected to read it all!\n",
    "2. Here is an example of running KMeans using scikit-learn: https://scikit-learn.org/stable/auto_examples/cluster/plot_kmeans_assumptions.html"
   ]
  },
  {
   "cell_type": "markdown",
   "metadata": {
    "editable": false
   },
   "source": [
    "For this question, we will use multiple datasets, which can all be found on Blackboard. To load these datasets in, we can use the following code. Note that you may need to adjust the path to the dataset, depending on where they are located on your system."
   ]
  },
  {
   "cell_type": "code",
   "execution_count": 1,
   "metadata": {},
   "outputs": [],
   "source": [
    "import pandas as pd\n",
    "\n",
    "def load_dataset(file_name, **kwargs):\n",
    "    try:\n",
    "        data = pd.read_csv(file_name, **kwargs)\n",
    "    except FileNotFoundError:\n",
    "        raise FileNotFoundError(f\"Cannot find {file_name}, please either place the file in the same directory as this notebook, or provide the full path\")\n",
    "    labels = data.values[:, -1]\n",
    "    data = data.values[:, :-1]\n",
    "    return data, labels\n",
    "\n",
    "# This loads the dataset used in Q1.1a\n",
    "simple_data, simple_labels = load_dataset(\"simple.csv\")"
   ]
  },
  {
   "cell_type": "markdown",
   "metadata": {
    "editable": false
   },
   "source": [
    "## Q1.1 (6 marks)\n",
    "\n",
    "### Q1.1a (2 marks)\n",
    "Using `simple.csv`, run the K-Means and single-linkage algorithms (available in [`scikit-learn`](https://scikit-learn.org/stable/modules/clustering.html)) on the dataset, using the true number of clusters ($K=5$). Produce a graph (e.g. bar chart) showing the performance (measured using the [adjusted rand index](https://scikit-learn.org/stable/modules/generated/sklearn.metrics.adjusted_rand_score.html)) across 10 independent runs. Discuss the results obtained, using your knowledge of how the algorithms work to explain why the behaviour observed occurred.\n",
    "\n",
    "**Hints:**\n",
    "* This question is more difficult without the use of error bars!\n",
    "* For single-linkage, use `AgglomerativeClustering(n_clusters=5, linkage=\"single\")`\n",
    "* For KMeans, use `KMeans(n_clusters=5, init=\"random\", n_init=1)` as arguments."
   ]
  },
  {
   "cell_type": "markdown",
   "metadata": {},
   "source": [
    "### Q1.1a Answer"
   ]
  },
  {
   "cell_type": "code",
   "execution_count": null,
   "metadata": {},
   "outputs": [],
   "source": [
    "# Please enter any relevant code for Q1.1a below.\n",
    "# You can use multiple cells if it helps break up the code execution"
   ]
  },
  {
   "cell_type": "markdown",
   "metadata": {
    "editable": false
   },
   "source": [
    "### Q1.1b (2 marks)\n",
    "\n",
    "Using the dataset named `q1-1b.csv`, perform the same experiment as in Q1.1a. Discuss the ARI results obtained, particularly how and why the results are different from Q1.1a.\n",
    "\n",
    "**Hint:**\n",
    "* Visualizing the data itself may help to support your discussion."
   ]
  },
  {
   "cell_type": "markdown",
   "metadata": {},
   "source": [
    "### Q1.1b Answer"
   ]
  },
  {
   "cell_type": "code",
   "execution_count": null,
   "metadata": {},
   "outputs": [],
   "source": []
  },
  {
   "cell_type": "markdown",
   "metadata": {
    "editable": false
   },
   "source": [
    "### Q1.1c (2 marks)\n",
    "\n",
    "Using the dataset named `q1-1c.csv`, perform the same experiment as in Q1.1b. Discuss the results obtained, particularly how and why the results are different from Q1.1b.\n",
    "\n",
    "**Hints:**\n",
    "* Visualizing the data itself may help to support your discussion."
   ]
  },
  {
   "cell_type": "markdown",
   "metadata": {},
   "source": [
    "### Q1.1c Answer"
   ]
  },
  {
   "cell_type": "code",
   "execution_count": null,
   "metadata": {},
   "outputs": [],
   "source": [
    "# Please enter any relevant code for Q1.1c below.\n",
    "# You can use multiple cells if it helps"
   ]
  },
  {
   "cell_type": "markdown",
   "metadata": {
    "editable": false
   },
   "source": [
    "## Q1.2 (5 marks)\n",
    "\n",
    "### Q1.2a (3 marks)\n",
    "Discuss **two** methods that can be used to estimate the *true* number of clusters. A discussion of the suitability and potential issues with each method is expected. No marks are given beyond the first two methods."
   ]
  },
  {
   "cell_type": "markdown",
   "metadata": {},
   "source": [
    "### Q1.2a Answer"
   ]
  },
  {
   "cell_type": "code",
   "execution_count": null,
   "metadata": {},
   "outputs": [],
   "source": [
    "# Please enter any relevant code for Q1.2a below\n",
    "# You can use multiple cells if it helps"
   ]
  },
  {
   "cell_type": "markdown",
   "metadata": {
    "editable": false
   },
   "source": [
    "### Q1.2b (2 marks)\n",
    "\n",
    "Using the `simple.csv` dataset, apply one of the two methods discussed in Q1.2a to estimate the true number of clusters. Was the estimate correct? Discuss your result."
   ]
  },
  {
   "cell_type": "markdown",
   "metadata": {},
   "source": [
    "### Q1.2b Answer"
   ]
  },
  {
   "cell_type": "code",
   "execution_count": null,
   "metadata": {},
   "outputs": [],
   "source": [
    "# Please enter any relevant code for Q1.2b below\n",
    "# You can use multiple cells if it helps"
   ]
  },
  {
   "cell_type": "markdown",
   "metadata": {
    "editable": false
   },
   "source": [
    "## Q1.3 (5 marks)\n",
    "\n",
    "For this question, we will use the `online_retail_full.csv` dataset, which is a real-world dataset of transactions for an online retail store. Full information about the dataset can be found [here](https://archive.ics.uci.edu/ml/datasets/Online+Retail+II). Here, we do not have true labels, and need to explore the data instead. This is a common scenario in practice, and will require you explore the data and use clustering (likely requiring multiple iterations and tweaks) to try to find patterns. \n",
    "\n",
    "We're going to investigate whether there are groups of customers, how they are similar, and what they may represent. For simplicity, we will start by using KMeans as our model, and we'll remove some of the columns from our input data. Use a range of $K$ values and whichever techniques in Q1.2 are useful to propose interesting $K$ value(s). Comment on the clusters that are produced in terms of the context of the data.\n",
    "\n",
    "Hints:\n",
    "* As this dataset has no truth, there is a lot of scope in this question - remember to have some justification for why you have taken the steps you have.\n",
    "* The quality of your final clusters is not important for marks, as long as you have taken reasonable steps.\n",
    "* The overall aim is to try to find patterns in the data. KMeans is suggested as a starting point, but it is not always the best algorithm to use as we have seen in previous questions. \n",
    "* You can create features from the existing ones. For example, the quantity and price can be multiplied to get a total amount (thus simplifying the data). Other features may require transformation before they can be used."
   ]
  },
  {
   "cell_type": "markdown",
   "metadata": {},
   "source": [
    "## Q1.3 Answer"
   ]
  },
  {
   "cell_type": "code",
   "execution_count": null,
   "metadata": {},
   "outputs": [],
   "source": [
    "# Load the data (the path may be different for you, adjust if needed)\n",
    "retail = pd.read_csv(\"online_retail_full.csv\", index_col=False)"
   ]
  },
  {
   "cell_type": "markdown",
   "metadata": {},
   "source": [
    "# Question 2: Itemset Rule Mining (4 marks) "
   ]
  },
  {
   "cell_type": "markdown",
   "metadata": {
    "editable": false
   },
   "source": [
    "For this question, we will be using a [real-world dataset](https://archive.ics.uci.edu/ml/datasets/Congressional+Voting+Records) which gives the votes of 435 U.S. congressmen on 16 key issues gathered in the mid-1980s, and also includes their party affiliation as a binary attribute. This is a purely nominal dataset with some missing values (corresponding to abstentions). It is normally treated as a classification problem, the task being to predict party affiliation based on voting patterns. However, association-rule mining can also be applied to this data to seek interesting associations.\n",
    "\n",
    "We will be using [Weka](https://www.cs.waikato.ac.nz/ml/weka/), both for its utility for itemset rule mining, and to use a different approach for exploring data. You should have some experience using Weka from the first (non-assessed) week.\n",
    "\n",
    "You may need to take screenshots of Weka and include them in your answer below, or copy & paste the relevant rules. Please ensure that your answer and rules are clearly legible."
   ]
  },
  {
   "cell_type": "markdown",
   "metadata": {
    "editable": false
   },
   "source": [
    "## Q2.1 (3 marks)\n",
    "\n",
    "In Weka, run `Apriori` on this dataset using default settings. Comment on any patterns you see in the rules that are generated. Also discuss their support, confidence, and lift, demonstrating that you understand how they are calculated, their role, and how to interpret these values."
   ]
  },
  {
   "cell_type": "markdown",
   "metadata": {},
   "source": [
    "## Q2.1 Answer"
   ]
  },
  {
   "cell_type": "markdown",
   "metadata": {},
   "source": []
  },
  {
   "cell_type": "markdown",
   "metadata": {
    "editable": false
   },
   "source": [
    "## Q2.2 (1 mark)\n",
    "\n",
    "It is interesting to see that none of the rules in the default output involve `class = republican`. Why do you think that is?"
   ]
  },
  {
   "cell_type": "markdown",
   "metadata": {},
   "source": [
    "## Q2.2 Answer"
   ]
  },
  {
   "cell_type": "markdown",
   "metadata": {},
   "source": []
  }
 ],
 "metadata": {
  "celltoolbar": "Edit Metadata",
  "kernelspec": {
   "display_name": "Python 3",
   "language": "python",
   "name": "python3"
  },
  "language_info": {
   "codemirror_mode": {
    "name": "ipython",
    "version": 3
   },
   "file_extension": ".py",
   "mimetype": "text/x-python",
   "name": "python",
   "nbconvert_exporter": "python",
   "pygments_lexer": "ipython3",
   "version": "3.8.3"
  }
 },
 "nbformat": 4,
 "nbformat_minor": 4
}
