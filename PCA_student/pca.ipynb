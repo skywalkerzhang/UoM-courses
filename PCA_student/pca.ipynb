{
 "cells": [
  {
   "cell_type": "code",
   "execution_count": 1,
   "metadata": {},
   "outputs": [],
   "source": [
    "import numpy as np\n",
    "from sklearn import datasets\n",
    "from matplotlib import pyplot as plt\n",
    "\n",
    "%matplotlib inline"
   ]
  },
  {
   "cell_type": "code",
   "execution_count": 2,
   "metadata": {},
   "outputs": [],
   "source": [
    "def print_image(plot, data, shape=(64, 64)):\n",
    "    plot.imshow(np.flip(data.reshape(shape).T, 1), cmap=plt.get_cmap('gray'))\n",
    "    plot.axis('off')"
   ]
  },
  {
   "cell_type": "markdown",
   "metadata": {},
   "source": [
    "## Part 1. Implement PCA and Dual PCA algorithms"
   ]
  },
  {
   "cell_type": "markdown",
   "metadata": {},
   "source": [
    "### <span style=\"color:red\">=========== Assignment 1 ===========</span>"
   ]
  },
  {
   "cell_type": "code",
   "execution_count": 3,
   "metadata": {},
   "outputs": [],
   "source": [
    "# PCA (with covariance)\n",
    "\n",
    "# test the function.\n",
    "\n",
    "def my_pca(X, p=None):\n",
    "    # Step1: Data centralisation\n",
    "    # 1.1 get the \"mean matrix\"\n",
    "    m = np.mean(X, axis=1)\n",
    "    m = m.reshape(m.shape[0], 1)\n",
    "    \n",
    "    # 1.2 Data centralisation\n",
    "    X_hat = X - m\n",
    "    \n",
    "    # Step2: Eigen analysis\n",
    "    # 2.1 Calculate the covariance matrix\n",
    "    cov_mat = np.mat(np.cov(X_hat, rowvar=True))\n",
    "    print(\"shape is\")\n",
    "    print(cov_mat.shape)\n",
    "    \n",
    "    # 2.2 Find out all eigenvalues\n",
    "    eig_val, eig_vec = np.linalg.eig(cov_mat)\n",
    "    print(eig_val, eig_vec)\n",
    "    \n",
    "    # 2.3 Sort all eigenvalues\n",
    "    # Get the index of the feature vectors sorted from largest to smallest\n",
    "    sorted_idx = np.argsort(-eig_val)\n",
    "    print(sorted_idx)\n",
    "    sorted_eig_val = eig_val[sorted_idx]\n",
    "    # data are organised in the column vector notation\n",
    "    sorted_eig_vec = eig_vec[:, sorted_idx]\n",
    "    print(sorted_eig_vec)\n",
    "    \n",
    "    # Step3: Construct projection matrix \n",
    "    # 3.1 find out a proper dimension(PoV)\n",
    "    if p is None:\n",
    "        p = 0 # p stands for the dimension\n",
    "        tot_p_eig_val = 0 # represents the sum of the first p eigenvalues\n",
    "        tot_eig_val = sum(eig_val)\n",
    "\n",
    "        for val in sorted_eig_val:\n",
    "            tot_p_eig_val += val\n",
    "            p += 1\n",
    "            if (tot_p_eig_val / tot_eig_val) >= 0.9:\n",
    "                break\n",
    "\n",
    "        print(tot_p_eig_val)\n",
    "        print(tot_p_eig_val / tot_eig_val)\n",
    "    \n",
    "    # 3.2 Select top p (p < d) eigenvectors of S to be principal components to form the projection matrix\n",
    "    P = sorted_eig_vec[:,:p]\n",
    "    print(P)\n",
    "    P_mat = np.mat(P)\n",
    "    print(P_mat.T)\n",
    "    \n",
    "    # Step 4: Encoding: generate a low-dimensional representation of data point\n",
    "    z = np.dot(P_mat.T, X_hat)\n",
    "\n",
    "    # Step 5: Decoding: reconstruct data point from its low-dimensional representation\n",
    "    X_de = m + np.dot(P,z)\n",
    "    return z, X_de, sorted_eig_val, sorted_eig_vec\n",
    "\n",
    "def my_PoV(eig_val):\n",
    "    p = 0 # p stands for the dimension\n",
    "    tot_p_eig_val = 0 # represents the sum of the first p eigenvalues\n",
    "    tot_eig_val = sum(eig_val)\n",
    "\n",
    "    for val in eig_val:\n",
    "        tot_p_eig_val += val\n",
    "        p += 1\n",
    "        if (tot_p_eig_val / tot_eig_val) >= 0.9:\n",
    "            return p\n",
    "    return p\n"
   ]
  },
  {
   "cell_type": "markdown",
   "metadata": {},
   "source": [
    "### <span style=\"color:red\">=========== End of Assignment 1 ===========</span>"
   ]
  },
  {
   "cell_type": "markdown",
   "metadata": {},
   "source": [
    "### <span style=\"color:red\">=========== Assignment 2 ===========</span>"
   ]
  },
  {
   "cell_type": "code",
   "execution_count": 4,
   "metadata": {
    "scrolled": true
   },
   "outputs": [],
   "source": [
    "# PCA (with SVD)\n",
    "\n",
    "def my_dual_pca(X, p=None):\n",
    "    # Step1: Data centralisation\n",
    "    # 1.1 get the \"mean matrix\"\n",
    "    m = np.mean(X, axis=1)\n",
    "    m = m.reshape(m.shape[0], 1)\n",
    "    \n",
    "    # 1.2 Data centralisation\n",
    "    X_hat = X - m\n",
    "    print(\"X_hat is \")\n",
    "    print(X_hat)\n",
    "    \n",
    "    # Step2: SVD solution to eigen analysis\n",
    "    # 2.1 calculate Y\n",
    "    N = X.shape[1]\n",
    "    Y = X_hat.T / np.sqrt(N-1) \n",
    "    print(\"Y is\")\n",
    "    print(Y)\n",
    "    \n",
    "    # 2.2 SVD\n",
    "    # columns stand for instance\n",
    "    U,sigma,VT = np.linalg.svd(Y)\n",
    "    V = VT.T\n",
    "    print(\"sigma=\")\n",
    "    print(sigma)\n",
    "    \n",
    "    # Step3: Construct projection matrix \n",
    "    # 3.1 find out a proper dimension(PoV)\n",
    "    if p is None:\n",
    "        p = 0 # p stands for the dimension\n",
    "        tot_p_sigma = 0 # represents the sum of the first p eigenvalues\n",
    "        tot_sigma = sum(sigma)\n",
    "\n",
    "        for val in sigma:\n",
    "            tot_p_sigma += val\n",
    "            p += 1\n",
    "            if (tot_p_sigma / tot_sigma) >= 0.9:\n",
    "                break\n",
    "\n",
    "        print(tot_p_sigma)\n",
    "        print(tot_p_sigma / tot_sigma)\n",
    "    \n",
    "    # 3.2 Select top p (p < d) eigenvectors of S to be principal components to form the projection matrix\n",
    "    P = V[:p]\n",
    "    print(P)\n",
    "    P_mat = np.mat(P)\n",
    "    \n",
    "    \n",
    "    # Step3:  Encoding:\n",
    "    z = np.dot(P_mat, X_hat)\n",
    "#     b = np.dot(np.diag(sigma), VT[:, :p])\n",
    "#     z = np.dot(U[:p], b)\n",
    "    \n",
    "    # Step4: Decoding\n",
    "    X_de = m + np.dot(P_mat.T,z)\n",
    "    return z, X_de, sigma, VT, p"
   ]
  },
  {
   "cell_type": "markdown",
   "metadata": {},
   "source": [
    "### <span style=\"color:red\">=========== End of Assignment 2 ===========</span>"
   ]
  },
  {
   "cell_type": "markdown",
   "metadata": {},
   "source": [
    "## Part 2. Visualisation"
   ]
  },
  {
   "cell_type": "markdown",
   "metadata": {},
   "source": [
    "### <span style=\"color:red\">=========== Assignment 3 ===========</span>"
   ]
  },
  {
   "cell_type": "code",
   "execution_count": 5,
   "metadata": {},
   "outputs": [
    {
     "name": "stdout",
     "output_type": "stream",
     "text": [
      "(150, 4)\n"
     ]
    }
   ],
   "source": [
    "# Import dataset\n",
    "iris = datasets.load_iris()\n",
    "X = iris.data.T\n",
    "print(iris.data.shape)\n",
    "y = iris.target"
   ]
  },
  {
   "cell_type": "code",
   "execution_count": 6,
   "metadata": {
    "scrolled": true
   },
   "outputs": [
    {
     "name": "stdout",
     "output_type": "stream",
     "text": [
      "shape is\n",
      "(4, 4)\n",
      "[4.22824171 0.24267075 0.0782095  0.02383509] [[ 0.36138659 -0.65658877 -0.58202985  0.31548719]\n",
      " [-0.08452251 -0.73016143  0.59791083 -0.3197231 ]\n",
      " [ 0.85667061  0.17337266  0.07623608 -0.47983899]\n",
      " [ 0.3582892   0.07548102  0.54583143  0.75365743]]\n",
      "[0 1 2 3]\n",
      "[[ 0.36138659 -0.65658877 -0.58202985  0.31548719]\n",
      " [-0.08452251 -0.73016143  0.59791083 -0.3197231 ]\n",
      " [ 0.85667061  0.17337266  0.07623608 -0.47983899]\n",
      " [ 0.3582892   0.07548102  0.54583143  0.75365743]]\n",
      "[[ 0.36138659 -0.65658877]\n",
      " [-0.08452251 -0.73016143]\n",
      " [ 0.85667061  0.17337266]\n",
      " [ 0.3582892   0.07548102]]\n",
      "[[ 0.36138659 -0.08452251  0.85667061  0.3582892 ]\n",
      " [-0.65658877 -0.73016143  0.17337266  0.07548102]]\n",
      "en_X is :\n",
      "[[-2.68412563 -2.71414169 -2.88899057 -2.74534286 -2.72871654 -2.28085963\n",
      "  -2.82053775 -2.62614497 -2.88638273 -2.6727558  -2.50694709 -2.61275523\n",
      "  -2.78610927 -3.22380374 -2.64475039 -2.38603903 -2.62352788 -2.64829671\n",
      "  -2.19982032 -2.5879864  -2.31025622 -2.54370523 -3.21593942 -2.30273318\n",
      "  -2.35575405 -2.50666891 -2.46882007 -2.56231991 -2.63953472 -2.63198939\n",
      "  -2.58739848 -2.4099325  -2.64886233 -2.59873675 -2.63692688 -2.86624165\n",
      "  -2.62523805 -2.80068412 -2.98050204 -2.59000631 -2.77010243 -2.84936871\n",
      "  -2.99740655 -2.40561449 -2.20948924 -2.71445143 -2.53814826 -2.83946217\n",
      "  -2.54308575 -2.70335978  1.28482569  0.93248853  1.46430232  0.18331772\n",
      "   1.08810326  0.64166908  1.09506066 -0.74912267  1.04413183 -0.0087454\n",
      "  -0.50784088  0.51169856  0.26497651  0.98493451 -0.17392537  0.92786078\n",
      "   0.66028376  0.23610499  0.94473373  0.04522698  1.11628318  0.35788842\n",
      "   1.29818388  0.92172892  0.71485333  0.90017437  1.33202444  1.55780216\n",
      "   0.81329065 -0.30558378 -0.06812649 -0.18962247  0.13642871  1.38002644\n",
      "   0.58800644  0.80685831  1.22069088  0.81509524  0.24595768  0.16641322\n",
      "   0.46480029  0.8908152   0.23054802 -0.70453176  0.35698149  0.33193448\n",
      "   0.37621565  0.64257601 -0.90646986  0.29900084  2.53119273  1.41523588\n",
      "   2.61667602  1.97153105  2.35000592  3.39703874  0.52123224  2.93258707\n",
      "   2.32122882  2.91675097  1.66177415  1.80340195  2.1655918   1.34616358\n",
      "   1.58592822  1.90445637  1.94968906  3.48705536  3.79564542  1.30079171\n",
      "   2.42781791  1.19900111  3.49992004  1.38876613  2.2754305   2.61409047\n",
      "   1.25850816  1.29113206  2.12360872  2.38800302  2.84167278  3.23067366\n",
      "   2.15943764  1.44416124  1.78129481  3.07649993  2.14424331  1.90509815\n",
      "   1.16932634  2.10761114  2.31415471  1.9222678   1.41523588  2.56301338\n",
      "   2.41874618  1.94410979  1.52716661  1.76434572  1.90094161  1.39018886]\n",
      " [-0.31939725  0.17700123  0.14494943  0.31829898 -0.32675451 -0.74133045\n",
      "   0.08946138 -0.16338496  0.57831175  0.11377425 -0.6450689  -0.01472994\n",
      "   0.235112    0.51139459 -1.17876464 -1.33806233 -0.81067951 -0.31184914\n",
      "  -0.87283904 -0.51356031 -0.39134594 -0.43299606 -0.13346807 -0.09870885\n",
      "   0.03728186  0.14601688 -0.13095149 -0.36771886 -0.31203998  0.19696122\n",
      "   0.20431849 -0.41092426 -0.81336382 -1.09314576  0.12132235 -0.06936447\n",
      "  -0.59937002 -0.26864374  0.48795834 -0.22904384 -0.26352753  0.94096057\n",
      "   0.34192606 -0.18887143 -0.43666314  0.2502082  -0.50377114  0.22794557\n",
      "  -0.57941002 -0.10770608 -0.68516047 -0.31833364 -0.50426282  0.82795901\n",
      "  -0.07459068  0.41824687 -0.28346827  1.00489096 -0.2283619   0.72308191\n",
      "   1.26597119  0.10398124  0.55003646  0.12481785  0.25485421 -0.46717949\n",
      "   0.35296967  0.33361077  0.54314555  0.58383438  0.08461685  0.06892503\n",
      "   0.32778731  0.18273779 -0.14905594 -0.32850447 -0.24444088 -0.26749545\n",
      "   0.1633503   0.36826219  0.70517213  0.68028676  0.31403244  0.42095429\n",
      "   0.48428742 -0.19418231 -0.40761959  0.37203706  0.2685244   0.68192672\n",
      "   0.67071154  0.03446444  0.40438585  1.01224823  0.50491009  0.21265468\n",
      "   0.29321893 -0.01773819  0.75609337  0.34889781  0.00984911  0.57491635\n",
      "  -0.34390315  0.1797279   0.04026095 -0.55083667  1.19275873 -0.3555\n",
      "   0.2438315  -0.78279195 -0.24222841  0.21563762 -0.21627559  0.77681835\n",
      "   0.53964071 -0.11925069 -0.04194326 -1.17573933 -0.25732297  0.76114964\n",
      "  -0.37819601  0.60609153 -0.4606741   0.20439933 -0.33499061 -0.56090136\n",
      "   0.17970479  0.11666865  0.20972948 -0.4646398  -0.37526917 -1.37416509\n",
      "   0.21727758  0.14341341  0.49990168 -0.68808568 -0.1400642  -0.04930053\n",
      "   0.16499026 -0.37228787 -0.18365128 -0.40920347  0.57491635 -0.2778626\n",
      "  -0.3047982  -0.1875323   0.37531698 -0.07885885 -0.11662796  0.28266094]]\n",
      "(2, 150)\n",
      "en_X1 is:\n",
      "[[-2.68412563  0.31939725]\n",
      " [-2.71414169 -0.17700123]\n",
      " [-2.88899057 -0.14494943]\n",
      " [-2.74534286 -0.31829898]\n",
      " [-2.72871654  0.32675451]\n",
      " [-2.28085963  0.74133045]\n",
      " [-2.82053775 -0.08946138]\n",
      " [-2.62614497  0.16338496]\n",
      " [-2.88638273 -0.57831175]\n",
      " [-2.6727558  -0.11377425]\n",
      " [-2.50694709  0.6450689 ]\n",
      " [-2.61275523  0.01472994]\n",
      " [-2.78610927 -0.235112  ]\n",
      " [-3.22380374 -0.51139459]\n",
      " [-2.64475039  1.17876464]\n",
      " [-2.38603903  1.33806233]\n",
      " [-2.62352788  0.81067951]\n",
      " [-2.64829671  0.31184914]\n",
      " [-2.19982032  0.87283904]\n",
      " [-2.5879864   0.51356031]\n",
      " [-2.31025622  0.39134594]\n",
      " [-2.54370523  0.43299606]\n",
      " [-3.21593942  0.13346807]\n",
      " [-2.30273318  0.09870885]\n",
      " [-2.35575405 -0.03728186]\n",
      " [-2.50666891 -0.14601688]\n",
      " [-2.46882007  0.13095149]\n",
      " [-2.56231991  0.36771886]\n",
      " [-2.63953472  0.31203998]\n",
      " [-2.63198939 -0.19696122]\n",
      " [-2.58739848 -0.20431849]\n",
      " [-2.4099325   0.41092426]\n",
      " [-2.64886233  0.81336382]\n",
      " [-2.59873675  1.09314576]\n",
      " [-2.63692688 -0.12132235]\n",
      " [-2.86624165  0.06936447]\n",
      " [-2.62523805  0.59937002]\n",
      " [-2.80068412  0.26864374]\n",
      " [-2.98050204 -0.48795834]\n",
      " [-2.59000631  0.22904384]\n",
      " [-2.77010243  0.26352753]\n",
      " [-2.84936871 -0.94096057]\n",
      " [-2.99740655 -0.34192606]\n",
      " [-2.40561449  0.18887143]\n",
      " [-2.20948924  0.43666314]\n",
      " [-2.71445143 -0.2502082 ]\n",
      " [-2.53814826  0.50377114]\n",
      " [-2.83946217 -0.22794557]\n",
      " [-2.54308575  0.57941002]\n",
      " [-2.70335978  0.10770608]\n",
      " [ 1.28482569  0.68516047]\n",
      " [ 0.93248853  0.31833364]\n",
      " [ 1.46430232  0.50426282]\n",
      " [ 0.18331772 -0.82795901]\n",
      " [ 1.08810326  0.07459068]\n",
      " [ 0.64166908 -0.41824687]\n",
      " [ 1.09506066  0.28346827]\n",
      " [-0.74912267 -1.00489096]\n",
      " [ 1.04413183  0.2283619 ]\n",
      " [-0.0087454  -0.72308191]\n",
      " [-0.50784088 -1.26597119]\n",
      " [ 0.51169856 -0.10398124]\n",
      " [ 0.26497651 -0.55003646]\n",
      " [ 0.98493451 -0.12481785]\n",
      " [-0.17392537 -0.25485421]\n",
      " [ 0.92786078  0.46717949]\n",
      " [ 0.66028376 -0.35296967]\n",
      " [ 0.23610499 -0.33361077]\n",
      " [ 0.94473373 -0.54314555]\n",
      " [ 0.04522698 -0.58383438]\n",
      " [ 1.11628318 -0.08461685]\n",
      " [ 0.35788842 -0.06892503]\n",
      " [ 1.29818388 -0.32778731]\n",
      " [ 0.92172892 -0.18273779]\n",
      " [ 0.71485333  0.14905594]\n",
      " [ 0.90017437  0.32850447]\n",
      " [ 1.33202444  0.24444088]\n",
      " [ 1.55780216  0.26749545]\n",
      " [ 0.81329065 -0.1633503 ]\n",
      " [-0.30558378 -0.36826219]\n",
      " [-0.06812649 -0.70517213]\n",
      " [-0.18962247 -0.68028676]\n",
      " [ 0.13642871 -0.31403244]\n",
      " [ 1.38002644 -0.42095429]\n",
      " [ 0.58800644 -0.48428742]\n",
      " [ 0.80685831  0.19418231]\n",
      " [ 1.22069088  0.40761959]\n",
      " [ 0.81509524 -0.37203706]\n",
      " [ 0.24595768 -0.2685244 ]\n",
      " [ 0.16641322 -0.68192672]\n",
      " [ 0.46480029 -0.67071154]\n",
      " [ 0.8908152  -0.03446444]\n",
      " [ 0.23054802 -0.40438585]\n",
      " [-0.70453176 -1.01224823]\n",
      " [ 0.35698149 -0.50491009]\n",
      " [ 0.33193448 -0.21265468]\n",
      " [ 0.37621565 -0.29321893]\n",
      " [ 0.64257601  0.01773819]\n",
      " [-0.90646986 -0.75609337]\n",
      " [ 0.29900084 -0.34889781]\n",
      " [ 2.53119273 -0.00984911]\n",
      " [ 1.41523588 -0.57491635]\n",
      " [ 2.61667602  0.34390315]\n",
      " [ 1.97153105 -0.1797279 ]\n",
      " [ 2.35000592 -0.04026095]\n",
      " [ 3.39703874  0.55083667]\n",
      " [ 0.52123224 -1.19275873]\n",
      " [ 2.93258707  0.3555    ]\n",
      " [ 2.32122882 -0.2438315 ]\n",
      " [ 2.91675097  0.78279195]\n",
      " [ 1.66177415  0.24222841]\n",
      " [ 1.80340195 -0.21563762]\n",
      " [ 2.1655918   0.21627559]\n",
      " [ 1.34616358 -0.77681835]\n",
      " [ 1.58592822 -0.53964071]\n",
      " [ 1.90445637  0.11925069]\n",
      " [ 1.94968906  0.04194326]\n",
      " [ 3.48705536  1.17573933]\n",
      " [ 3.79564542  0.25732297]\n",
      " [ 1.30079171 -0.76114964]\n",
      " [ 2.42781791  0.37819601]\n",
      " [ 1.19900111 -0.60609153]\n",
      " [ 3.49992004  0.4606741 ]\n",
      " [ 1.38876613 -0.20439933]\n",
      " [ 2.2754305   0.33499061]\n",
      " [ 2.61409047  0.56090136]\n",
      " [ 1.25850816 -0.17970479]\n",
      " [ 1.29113206 -0.11666865]\n",
      " [ 2.12360872 -0.20972948]\n",
      " [ 2.38800302  0.4646398 ]\n",
      " [ 2.84167278  0.37526917]\n",
      " [ 3.23067366  1.37416509]\n",
      " [ 2.15943764 -0.21727758]\n",
      " [ 1.44416124 -0.14341341]\n",
      " [ 1.78129481 -0.49990168]\n",
      " [ 3.07649993  0.68808568]\n",
      " [ 2.14424331  0.1400642 ]\n",
      " [ 1.90509815  0.04930053]\n",
      " [ 1.16932634 -0.16499026]\n",
      " [ 2.10761114  0.37228787]\n",
      " [ 2.31415471  0.18365128]\n",
      " [ 1.9222678   0.40920347]\n",
      " [ 1.41523588 -0.57491635]\n",
      " [ 2.56301338  0.2778626 ]\n",
      " [ 2.41874618  0.3047982 ]\n",
      " [ 1.94410979  0.1875323 ]\n",
      " [ 1.52716661 -0.37531698]\n",
      " [ 1.76434572  0.07885885]\n",
      " [ 1.90094161  0.11662796]\n",
      " [ 1.39018886 -0.28266094]]\n",
      "(150, 2)\n"
     ]
    }
   ],
   "source": [
    "# Visualisation\n",
    "from sklearn.decomposition import PCA\n",
    "\n",
    "en_X, de_X, sorted_eig_val, sorted_vec = my_pca(X, 2)\n",
    "print(\"en_X is :\")\n",
    "print(en_X)\n",
    "print(en_X.shape)\n",
    "\n",
    "en_X1 = PCA(2).fit_transform(X.T)\n",
    "print(\"en_X1 is:\")\n",
    "print(en_X1)\n",
    "print(en_X1.shape)"
   ]
  },
  {
   "cell_type": "code",
   "execution_count": 7,
   "metadata": {
    "scrolled": true
   },
   "outputs": [
    {
     "name": "stdout",
     "output_type": "stream",
     "text": [
      "[[-2.68412563 -2.71414169 -2.88899057 -2.74534286 -2.72871654 -2.28085963\n",
      "  -2.82053775 -2.62614497 -2.88638273 -2.6727558  -2.50694709 -2.61275523\n",
      "  -2.78610927 -3.22380374 -2.64475039 -2.38603903 -2.62352788 -2.64829671\n",
      "  -2.19982032 -2.5879864  -2.31025622 -2.54370523 -3.21593942 -2.30273318\n",
      "  -2.35575405 -2.50666891 -2.46882007 -2.56231991 -2.63953472 -2.63198939\n",
      "  -2.58739848 -2.4099325  -2.64886233 -2.59873675 -2.63692688 -2.86624165\n",
      "  -2.62523805 -2.80068412 -2.98050204 -2.59000631 -2.77010243 -2.84936871\n",
      "  -2.99740655 -2.40561449 -2.20948924 -2.71445143 -2.53814826 -2.83946217\n",
      "  -2.54308575 -2.70335978  1.28482569  0.93248853  1.46430232  0.18331772\n",
      "   1.08810326  0.64166908  1.09506066 -0.74912267  1.04413183 -0.0087454\n",
      "  -0.50784088  0.51169856  0.26497651  0.98493451 -0.17392537  0.92786078\n",
      "   0.66028376  0.23610499  0.94473373  0.04522698  1.11628318  0.35788842\n",
      "   1.29818388  0.92172892  0.71485333  0.90017437  1.33202444  1.55780216\n",
      "   0.81329065 -0.30558378 -0.06812649 -0.18962247  0.13642871  1.38002644\n",
      "   0.58800644  0.80685831  1.22069088  0.81509524  0.24595768  0.16641322\n",
      "   0.46480029  0.8908152   0.23054802 -0.70453176  0.35698149  0.33193448\n",
      "   0.37621565  0.64257601 -0.90646986  0.29900084  2.53119273  1.41523588\n",
      "   2.61667602  1.97153105  2.35000592  3.39703874  0.52123224  2.93258707\n",
      "   2.32122882  2.91675097  1.66177415  1.80340195  2.1655918   1.34616358\n",
      "   1.58592822  1.90445637  1.94968906  3.48705536  3.79564542  1.30079171\n",
      "   2.42781791  1.19900111  3.49992004  1.38876613  2.2754305   2.61409047\n",
      "   1.25850816  1.29113206  2.12360872  2.38800302  2.84167278  3.23067366\n",
      "   2.15943764  1.44416124  1.78129481  3.07649993  2.14424331  1.90509815\n",
      "   1.16932634  2.10761114  2.31415471  1.9222678   1.41523588  2.56301338\n",
      "   2.41874618  1.94410979  1.52716661  1.76434572  1.90094161  1.39018886]\n",
      " [ 0.31939725 -0.17700123 -0.14494943 -0.31829898  0.32675451  0.74133045\n",
      "  -0.08946138  0.16338496 -0.57831175 -0.11377425  0.6450689   0.01472994\n",
      "  -0.235112   -0.51139459  1.17876464  1.33806233  0.81067951  0.31184914\n",
      "   0.87283904  0.51356031  0.39134594  0.43299606  0.13346807  0.09870885\n",
      "  -0.03728186 -0.14601688  0.13095149  0.36771886  0.31203998 -0.19696122\n",
      "  -0.20431849  0.41092426  0.81336382  1.09314576 -0.12132235  0.06936447\n",
      "   0.59937002  0.26864374 -0.48795834  0.22904384  0.26352753 -0.94096057\n",
      "  -0.34192606  0.18887143  0.43666314 -0.2502082   0.50377114 -0.22794557\n",
      "   0.57941002  0.10770608  0.68516047  0.31833364  0.50426282 -0.82795901\n",
      "   0.07459068 -0.41824687  0.28346827 -1.00489096  0.2283619  -0.72308191\n",
      "  -1.26597119 -0.10398124 -0.55003646 -0.12481785 -0.25485421  0.46717949\n",
      "  -0.35296967 -0.33361077 -0.54314555 -0.58383438 -0.08461685 -0.06892503\n",
      "  -0.32778731 -0.18273779  0.14905594  0.32850447  0.24444088  0.26749545\n",
      "  -0.1633503  -0.36826219 -0.70517213 -0.68028676 -0.31403244 -0.42095429\n",
      "  -0.48428742  0.19418231  0.40761959 -0.37203706 -0.2685244  -0.68192672\n",
      "  -0.67071154 -0.03446444 -0.40438585 -1.01224823 -0.50491009 -0.21265468\n",
      "  -0.29321893  0.01773819 -0.75609337 -0.34889781 -0.00984911 -0.57491635\n",
      "   0.34390315 -0.1797279  -0.04026095  0.55083667 -1.19275873  0.3555\n",
      "  -0.2438315   0.78279195  0.24222841 -0.21563762  0.21627559 -0.77681835\n",
      "  -0.53964071  0.11925069  0.04194326  1.17573933  0.25732297 -0.76114964\n",
      "   0.37819601 -0.60609153  0.4606741  -0.20439933  0.33499061  0.56090136\n",
      "  -0.17970479 -0.11666865 -0.20972948  0.4646398   0.37526917  1.37416509\n",
      "  -0.21727758 -0.14341341 -0.49990168  0.68808568  0.1400642   0.04930053\n",
      "  -0.16499026  0.37228787  0.18365128  0.40920347 -0.57491635  0.2778626\n",
      "   0.3047982   0.1875323  -0.37531698  0.07885885  0.11662796 -0.28266094]]\n"
     ]
    }
   ],
   "source": [
    "print(en_X1.T)"
   ]
  },
  {
   "cell_type": "markdown",
   "metadata": {},
   "source": [
    "PC1, PC2, PC3 is the first 3 vector in eigenvectors."
   ]
  },
  {
   "cell_type": "code",
   "execution_count": 8,
   "metadata": {
    "scrolled": false
   },
   "outputs": [
    {
     "name": "stdout",
     "output_type": "stream",
     "text": [
      "[[ 0.36138659 -0.65658877 -0.58202985  0.31548719]\n",
      " [-0.08452251 -0.73016143  0.59791083 -0.3197231 ]\n",
      " [ 0.85667061  0.17337266  0.07623608 -0.47983899]\n",
      " [ 0.3582892   0.07548102  0.54583143  0.75365743]]\n",
      "[[ 0.36138659]\n",
      " [-0.08452251]\n",
      " [ 0.85667061]\n",
      " [ 0.3582892 ]] [[-0.65658877]\n",
      " [-0.73016143]\n",
      " [ 0.17337266]\n",
      " [ 0.07548102]] [[-0.58202985]\n",
      " [ 0.59791083]\n",
      " [ 0.07623608]\n",
      " [ 0.54583143]]\n"
     ]
    }
   ],
   "source": [
    "print(sorted_vec)\n",
    "PC1 = sorted_vec[:, 0]\n",
    "PC2 = sorted_vec[:, 1]\n",
    "PC3 = sorted_vec[:, 2]\n",
    "\n",
    "print(PC1, PC2, PC3)"
   ]
  },
  {
   "cell_type": "markdown",
   "metadata": {},
   "source": [
    "### Visualisation"
   ]
  },
  {
   "cell_type": "code",
   "execution_count": 9,
   "metadata": {
    "scrolled": false
   },
   "outputs": [
    {
     "data": {
      "image/png": "[encoded data removed]",
      "text/plain": [
       "<Figure size 432x288 with 3 Axes>"
      ]
     },
     "metadata": {
      "needs_background": "light"
     },
     "output_type": "display_data"
    }
   ],
   "source": [
    "fig = plt.figure()  \n",
    "ax1 = fig.add_subplot(2,2,1)  \n",
    "plt.xlabel('PC1')\n",
    "plt.ylabel('PC2')\n",
    "ax1.scatter(np.array(PC1), np.array(PC2), c = 'r',marker = 'o')  \n",
    "ax2 = fig.add_subplot(2,2,2)  \n",
    "plt.xlabel('PC1')\n",
    "plt.ylabel('PC3')\n",
    "ax2.scatter(np.array(PC1), np.array(PC3), c = 'b',marker = 'o') \n",
    "ax3 = fig.add_subplot(2,2,3)  \n",
    "plt.xlabel('PC2')\n",
    "plt.ylabel('PC3')\n",
    "ax3.scatter(np.array(PC2), np.array(PC3), c = 'g',marker = 'o') \n",
    "\n",
    "plt.tight_layout(pad=0.4,h_pad=5.0,w_pad=5.0) "
   ]
  },
  {
   "cell_type": "markdown",
   "metadata": {},
   "source": [
    "### describe"
   ]
  },
  {
   "cell_type": "markdown",
   "metadata": {},
   "source": [
    "### <span style=\"color:red\">=========== End of Assignment 3 ===========</span>"
   ]
  },
  {
   "cell_type": "markdown",
   "metadata": {},
   "source": [
    "## Part 3. Image compression"
   ]
  },
  {
   "cell_type": "markdown",
   "metadata": {},
   "source": [
    "### <span style=\"color:red\">=========== Assignment 4 ===========</span>"
   ]
  },
  {
   "cell_type": "code",
   "execution_count": 10,
   "metadata": {},
   "outputs": [],
   "source": [
    "X, _ = np.load('./Data/Yale_64x64.npy', allow_pickle=True)\n",
    "\n",
    "_, num_examples = X.shape\n",
    "test_sample = 0\n",
    "\n",
    "test_indices =  np.arange(test_sample, num_examples, 11)\n",
    "train_indices = np.delete(np.arange(num_examples), test_indices) \n",
    "\n",
    "train_X = X[:, train_indices]\n",
    "test_X = X[:, test_indices]"
   ]
  },
  {
   "cell_type": "markdown",
   "metadata": {},
   "source": [
    "For this assignment, I use PoV method to get the right dimension.\n",
    "\n",
    "I use the PoV method to get the right dimension. I integrated this method into the my_dual_pca function. If the dimension p is given, the known p is used. If the known p is not given, the PoV method is used to find the value of p."
   ]
  },
  {
   "cell_type": "code",
   "execution_count": 11,
   "metadata": {
    "scrolled": false
   },
   "outputs": [
    {
     "name": "stdout",
     "output_type": "stream",
     "text": [
      "X_hat is \n",
      "[[ 31.42666667  12.42666667  29.42666667 ... -31.57333333 -19.57333333\n",
      "  -22.57333333]\n",
      " [ 36.5          5.5         26.5        ... -31.5        -21.5\n",
      "  -23.5       ]\n",
      " [ 28.94         7.94        26.94       ... -32.06       -24.06\n",
      "  -24.06      ]\n",
      " ...\n",
      " [ 68.92666667  68.92666667  68.92666667 ...  57.92666667  11.92666667\n",
      "  -45.07333333]\n",
      " [ 72.20666667  69.20666667  72.20666667 ...  55.20666667  49.20666667\n",
      "  -72.79333333]\n",
      " [ 69.8         54.8         80.8        ...  79.8         24.8\n",
      "  -92.2       ]]\n",
      "Y is\n",
      "[[ 2.57457285  2.99019651  2.37085718 ...  5.64669255  5.91540062\n",
      "   5.71823881]\n",
      " [ 1.0180322   0.45057756  0.65047014 ...  5.64669255  5.66963104\n",
      "   4.48939092]\n",
      " [ 2.41072646  2.17096459  2.20701079 ...  5.64669255  5.91540062\n",
      "   6.61939392]\n",
      " ...\n",
      " [-2.58658825 -2.58058055 -2.62645754 ...  4.74553744  4.52270636\n",
      "   6.53747073]\n",
      " [-1.60350995 -1.76134863 -1.971072   ...  0.9770706   4.0311672\n",
      "   2.03169516]\n",
      " [-1.84927952 -1.92519501 -1.971072   ... -3.69255134 -5.96346223\n",
      "  -7.55331831]]\n",
      "sigma=\n",
      "[1.44975593e+03 1.14428488e+03 1.05716735e+03 7.33757828e+02\n",
      " 6.90696539e+02 6.18531015e+02 5.47654008e+02 5.09434655e+02\n",
      " 4.20202945e+02 4.17730631e+02 3.79791187e+02 3.63580976e+02\n",
      " 3.49755777e+02 3.41067467e+02 3.06612091e+02 3.01458525e+02\n",
      " 2.82465229e+02 2.76120047e+02 2.64543244e+02 2.58949297e+02\n",
      " 2.49560383e+02 2.38502695e+02 2.28934597e+02 2.16501507e+02\n",
      " 2.11764628e+02 2.07413861e+02 1.99886385e+02 1.97964735e+02\n",
      " 1.93926083e+02 1.92550317e+02 1.89060947e+02 1.85150051e+02\n",
      " 1.82233043e+02 1.71659802e+02 1.68958221e+02 1.62753285e+02\n",
      " 1.61497563e+02 1.56948011e+02 1.53335865e+02 1.50028470e+02\n",
      " 1.46466338e+02 1.42901838e+02 1.40665861e+02 1.38232620e+02\n",
      " 1.36229528e+02 1.35348177e+02 1.34712837e+02 1.29985526e+02\n",
      " 1.26383915e+02 1.24719371e+02 1.24238239e+02 1.22249832e+02\n",
      " 1.19917920e+02 1.18420770e+02 1.17315318e+02 1.14004385e+02\n",
      " 1.12555438e+02 1.11316246e+02 1.09935740e+02 1.08683084e+02\n",
      " 1.06680140e+02 1.05719761e+02 1.04060241e+02 1.02337734e+02\n",
      " 1.01439793e+02 9.94674237e+01 9.88672752e+01 9.77025803e+01\n",
      " 9.58783092e+01 9.50111487e+01 9.42153773e+01 9.34133962e+01\n",
      " 9.27375620e+01 9.05106691e+01 8.97110023e+01 8.89062734e+01\n",
      " 8.79262950e+01 8.67526566e+01 8.58112408e+01 8.38776767e+01\n",
      " 8.27623106e+01 8.22738538e+01 8.22066581e+01 8.15029083e+01\n",
      " 8.08169082e+01 7.97990564e+01 7.84758200e+01 7.80479619e+01\n",
      " 7.72549297e+01 7.57982970e+01 7.44103080e+01 7.41634569e+01\n",
      " 7.34872329e+01 7.28724392e+01 7.18695145e+01 7.12629650e+01\n",
      " 7.06997160e+01 6.97914924e+01 6.92222840e+01 6.88410267e+01\n",
      " 6.76586198e+01 6.73151774e+01 6.61590920e+01 6.56958826e+01\n",
      " 6.47397191e+01 6.39452663e+01 6.33229968e+01 6.22114371e+01\n",
      " 6.17031912e+01 6.13801648e+01 6.07498774e+01 5.99785832e+01\n",
      " 5.97921088e+01 5.90687706e+01 5.79644561e+01 5.72657687e+01\n",
      " 5.63448657e+01 5.60956951e+01 5.55952258e+01 5.51086305e+01\n",
      " 5.44197794e+01 5.34109015e+01 5.26481178e+01 5.22458137e+01\n",
      " 5.10861446e+01 5.05765449e+01 4.98396345e+01 4.93736119e+01\n",
      " 4.89239133e+01 4.81785598e+01 4.79552879e+01 4.74635379e+01\n",
      " 4.66666530e+01 4.65562133e+01 4.53910800e+01 4.47543609e+01\n",
      " 4.43313869e+01 4.37100873e+01 4.22911108e+01 4.20598621e+01\n",
      " 4.03943265e+01 3.91850257e+01 3.85306666e+01 3.80062533e+01\n",
      " 3.22587542e+01 2.36773741e+01 2.04887863e+01 6.43820965e-13\n",
      " 1.12441406e-13 1.12441374e-13]\n",
      "20598.032539022963\n",
      "0.9002802624279448\n",
      "[[-0.00578673 -0.00289188 -0.00220734 ... -0.01209626 -0.00904105\n",
      "  -0.02043137]\n",
      " [-0.00495876 -0.00378681 -0.00207954 ...  0.00696893 -0.00635236\n",
      "  -0.01283405]\n",
      " [-0.00470146 -0.00389949 -0.00165744 ... -0.01473876 -0.00176454\n",
      "  -0.02443881]\n",
      " ...\n",
      " [-0.01513327 -0.0196544   0.0322365  ...  0.01523659  0.03839492\n",
      "  -0.10255402]\n",
      " [-0.01401859 -0.02088195  0.03469671 ...  0.02342253  0.04066795\n",
      "   0.02400421]\n",
      " [-0.01082128 -0.02163789  0.0396457  ...  0.01059442 -0.03088697\n",
      "  -0.05013627]]\n",
      "102\n"
     ]
    }
   ],
   "source": [
    "# Image compression\n",
    "en_train_X, de_train_X, sigma, VT, p = my_dual_pca(train_X) \n",
    "\n",
    "print(p)"
   ]
  },
  {
   "cell_type": "code",
   "execution_count": 12,
   "metadata": {},
   "outputs": [],
   "source": [
    "en_sk_PCA = PCA(n_components=0.9).fit_transform(train_X.T)"
   ]
  },
  {
   "cell_type": "code",
   "execution_count": 13,
   "metadata": {
    "scrolled": false
   },
   "outputs": [
    {
     "name": "stdout",
     "output_type": "stream",
     "text": [
      "[[-2731.03573612 -3300.52599571 -2592.9091608  ...  2713.12949323\n",
      "   -248.83766203  -540.35233936]\n",
      " [-1580.80194977 -1466.81034    -1656.96515349 ... -2187.45353009\n",
      "   -436.21910353  -450.04599517]\n",
      " [ -623.80094873  -998.5782377   -817.1339276  ...   794.86160086\n",
      "  -1217.26888984  -323.74634841]\n",
      " ...\n",
      " [  197.56150156  -239.53750485  -263.93785648 ...  -110.35810734\n",
      "    227.62647569   -64.26742436]\n",
      " [ -153.75250346   130.23954848   140.40392756 ...  -154.59503681\n",
      "   -120.17602796    17.73719426]\n",
      " [  -76.82715357   212.522015    -298.74784869 ...    33.31066009\n",
      "   -114.71214323  -188.79220512]]\n",
      "(33, 150)\n"
     ]
    }
   ],
   "source": [
    "print(en_sk_PCA.T)\n",
    "print(en_sk_PCA.T.shape)"
   ]
  },
  {
   "cell_type": "code",
   "execution_count": 14,
   "metadata": {},
   "outputs": [
    {
     "name": "stdout",
     "output_type": "stream",
     "text": [
      "[[-3717.34135286 -2886.09295702 -2679.96680825 ...   797.6837655\n",
      "   -570.63594392  -518.48364616]\n",
      " [  161.62173348  3023.65035435  1139.37867315 ...  -838.15774349\n",
      "    -74.73239646    73.45033156]\n",
      " [  181.40763096    36.46691111 -2052.57991121 ...  -222.53244101\n",
      "    132.72287678   454.17761519]\n",
      " ...\n",
      " [   -9.66454958   -92.74622427    -8.35073352 ...   147.65786252\n",
      "   -109.08435318   -88.73041466]\n",
      " [  -32.62439342   -25.25158908   -53.24897835 ...   -64.3000603\n",
      "   -123.69616528  -137.23646621]\n",
      " [  110.66262283   -65.77745835   101.28190424 ...   200.47928086\n",
      "    138.41199495   213.12491581]]\n",
      "(102, 150)\n"
     ]
    }
   ],
   "source": [
    "print(en_train_X)\n",
    "print(en_train_X.shape)"
   ]
  },
  {
   "cell_type": "code",
   "execution_count": 15,
   "metadata": {
    "scrolled": false
   },
   "outputs": [
    {
     "name": "stdout",
     "output_type": "stream",
     "text": [
      "102\n"
     ]
    }
   ],
   "source": [
    "k = my_PoV(sigma)\n",
    "print(k)"
   ]
  },
  {
   "cell_type": "markdown",
   "metadata": {},
   "source": [
    "Therefore, k should be 102."
   ]
  },
  {
   "cell_type": "code",
   "execution_count": 16,
   "metadata": {
    "scrolled": false
   },
   "outputs": [
    {
     "ename": "IndexError",
     "evalue": "index 150 is out of bounds for axis 1 with size 150",
     "output_type": "error",
     "traceback": [
      "\u001b[1;31m---------------------------------------------------------------------------\u001b[0m",
      "\u001b[1;31mIndexError\u001b[0m                                Traceback (most recent call last)",
      "\u001b[1;32m<ipython-input-16-90ce025fd499>\u001b[0m in \u001b[0;36m<module>\u001b[1;34m\u001b[0m\n\u001b[0;32m      1\u001b[0m \u001b[0mfig\u001b[0m\u001b[1;33m,\u001b[0m \u001b[0max\u001b[0m \u001b[1;33m=\u001b[0m \u001b[0mplt\u001b[0m\u001b[1;33m.\u001b[0m\u001b[0msubplots\u001b[0m\u001b[1;33m(\u001b[0m\u001b[0mint\u001b[0m\u001b[1;33m(\u001b[0m\u001b[0mde_train_X\u001b[0m\u001b[1;33m.\u001b[0m\u001b[0mshape\u001b[0m\u001b[1;33m[\u001b[0m\u001b[1;36m1\u001b[0m\u001b[1;33m]\u001b[0m\u001b[1;33m/\u001b[0m\u001b[1;36m8\u001b[0m \u001b[1;33m+\u001b[0m \u001b[1;36m1\u001b[0m\u001b[1;33m)\u001b[0m\u001b[1;33m,\u001b[0m \u001b[1;36m8\u001b[0m\u001b[1;33m)\u001b[0m\u001b[1;33m\u001b[0m\u001b[1;33m\u001b[0m\u001b[0m\n\u001b[0;32m      2\u001b[0m \u001b[1;32mfor\u001b[0m \u001b[0mi\u001b[0m\u001b[1;33m,\u001b[0m\u001b[0maxi\u001b[0m \u001b[1;32min\u001b[0m \u001b[0menumerate\u001b[0m\u001b[1;33m(\u001b[0m\u001b[0max\u001b[0m\u001b[1;33m.\u001b[0m\u001b[0mflat\u001b[0m\u001b[1;33m)\u001b[0m\u001b[1;33m:\u001b[0m\u001b[1;33m\u001b[0m\u001b[1;33m\u001b[0m\u001b[0m\n\u001b[1;32m----> 3\u001b[1;33m     \u001b[0mprint_image\u001b[0m\u001b[1;33m(\u001b[0m\u001b[0maxi\u001b[0m\u001b[1;33m,\u001b[0m \u001b[0mde_train_X\u001b[0m\u001b[1;33m[\u001b[0m\u001b[1;33m:\u001b[0m\u001b[1;33m,\u001b[0m \u001b[0mi\u001b[0m\u001b[1;33m]\u001b[0m\u001b[1;33m)\u001b[0m\u001b[1;33m\u001b[0m\u001b[1;33m\u001b[0m\u001b[0m\n\u001b[0m\u001b[0;32m      4\u001b[0m \u001b[0mplt\u001b[0m\u001b[1;33m.\u001b[0m\u001b[0mshow\u001b[0m\u001b[1;33m(\u001b[0m\u001b[1;33m)\u001b[0m\u001b[1;33m\u001b[0m\u001b[1;33m\u001b[0m\u001b[0m\n",
      "\u001b[1;32m~\\scoop\\apps\\anaconda3\\2020.07\\lib\\site-packages\\numpy\\matrixlib\\defmatrix.py\u001b[0m in \u001b[0;36m__getitem__\u001b[1;34m(self, index)\u001b[0m\n\u001b[0;32m    193\u001b[0m \u001b[1;33m\u001b[0m\u001b[0m\n\u001b[0;32m    194\u001b[0m         \u001b[1;32mtry\u001b[0m\u001b[1;33m:\u001b[0m\u001b[1;33m\u001b[0m\u001b[1;33m\u001b[0m\u001b[0m\n\u001b[1;32m--> 195\u001b[1;33m             \u001b[0mout\u001b[0m \u001b[1;33m=\u001b[0m \u001b[0mN\u001b[0m\u001b[1;33m.\u001b[0m\u001b[0mndarray\u001b[0m\u001b[1;33m.\u001b[0m\u001b[0m__getitem__\u001b[0m\u001b[1;33m(\u001b[0m\u001b[0mself\u001b[0m\u001b[1;33m,\u001b[0m \u001b[0mindex\u001b[0m\u001b[1;33m)\u001b[0m\u001b[1;33m\u001b[0m\u001b[1;33m\u001b[0m\u001b[0m\n\u001b[0m\u001b[0;32m    196\u001b[0m         \u001b[1;32mfinally\u001b[0m\u001b[1;33m:\u001b[0m\u001b[1;33m\u001b[0m\u001b[1;33m\u001b[0m\u001b[0m\n\u001b[0;32m    197\u001b[0m             \u001b[0mself\u001b[0m\u001b[1;33m.\u001b[0m\u001b[0m_getitem\u001b[0m \u001b[1;33m=\u001b[0m \u001b[1;32mFalse\u001b[0m\u001b[1;33m\u001b[0m\u001b[1;33m\u001b[0m\u001b[0m\n",
      "\u001b[1;31mIndexError\u001b[0m: index 150 is out of bounds for axis 1 with size 150"
     ]
    },
    {
     "data": {
      "image/png": "[encoded data removed]",
      "text/plain": [
       "<Figure size 432x288 with 152 Axes>"
      ]
     },
     "metadata": {
      "needs_background": "light"
     },
     "output_type": "display_data"
    }
   ],
   "source": [
    "fig, ax = plt.subplots(int(de_train_X.shape[1]/8 + 1), 8)\n",
    "for i,axi in enumerate(ax.flat):\n",
    "    print_image(axi, de_train_X[:, i])\n",
    "plt.show()"
   ]
  },
  {
   "cell_type": "code",
   "execution_count": null,
   "metadata": {},
   "outputs": [],
   "source": []
  },
  {
   "cell_type": "markdown",
   "metadata": {},
   "source": [
    "### <span style=\"color:red\">=========== End of Assignment 4 ===========</span>"
   ]
  },
  {
   "cell_type": "markdown",
   "metadata": {},
   "source": [
    "### <span style=\"color:red\">=========== Assignment 5 ===========</span>"
   ]
  },
  {
   "cell_type": "code",
   "execution_count": null,
   "metadata": {},
   "outputs": [],
   "source": []
  },
  {
   "cell_type": "markdown",
   "metadata": {},
   "source": [
    "### <span style=\"color:red\">=========== End of Assignment 5 ===========</span>"
   ]
  },
  {
   "cell_type": "markdown",
   "metadata": {},
   "source": [
    "## Part 4. Application: face recognition"
   ]
  },
  {
   "cell_type": "markdown",
   "metadata": {},
   "source": [
    "### <span style=\"color:red\">=========== Assignment 6 ===========</span>"
   ]
  },
  {
   "cell_type": "code",
   "execution_count": null,
   "metadata": {},
   "outputs": [],
   "source": [
    "train_X, train_y, test_X, test_y = np.load('./Data/Yale_64x64-part-4-persons.npy', allow_pickle=True)"
   ]
  },
  {
   "cell_type": "code",
   "execution_count": null,
   "metadata": {},
   "outputs": [],
   "source": [
    "# Comparison"
   ]
  },
  {
   "cell_type": "markdown",
   "metadata": {},
   "source": [
    "### <span style=\"color:red\">=========== End of Assignment 6 ===========</span>"
   ]
  }
 ],
 "metadata": {
  "kernelspec": {
   "display_name": "Python 3",
   "language": "python",
   "name": "python3"
  },
  "language_info": {
   "codemirror_mode": {
    "name": "ipython",
    "version": 3
   },
   "file_extension": ".py",
   "mimetype": "text/x-python",
   "name": "python",
   "nbconvert_exporter": "python",
   "pygments_lexer": "ipython3",
   "version": "3.8.3"
  }
 },
 "nbformat": 4,
 "nbformat_minor": 2
}
